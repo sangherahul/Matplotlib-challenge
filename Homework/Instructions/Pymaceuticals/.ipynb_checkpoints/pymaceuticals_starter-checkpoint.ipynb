{
 "cells": [
  {
   "cell_type": "markdown",
   "metadata": {},
   "source": [
    "## Observations and Insights"
   ]
  },
  {
   "cell_type": "markdown",
   "metadata": {},
   "source": [
    "1:Among the drug regimens, Ramicane appears to be the most effective drug in reducing final tumor volume.\n",
    "2:Averge tumor volume of the mouse is directly proportional to its weight.\n",
    "3:Data presented for the top four effective drug appears to be normally distributed with and has no outliers."
   ]
  },
  {
   "cell_type": "markdown",
   "metadata": {},
   "source": [
    "## Dependencies and starter code"
   ]
  },
  {
   "cell_type": "code",
   "execution_count": 120,
   "metadata": {},
   "outputs": [
    {
     "data": {
      "text/html": [
       "<div>\n",
       "<style scoped>\n",
       "    .dataframe tbody tr th:only-of-type {\n",
       "        vertical-align: middle;\n",
       "    }\n",
       "\n",
       "    .dataframe tbody tr th {\n",
       "        vertical-align: top;\n",
       "    }\n",
       "\n",
       "    .dataframe thead th {\n",
       "        text-align: right;\n",
       "    }\n",
       "</style>\n",
       "<table border=\"1\" class=\"dataframe\">\n",
       "  <thead>\n",
       "    <tr style=\"text-align: right;\">\n",
       "      <th></th>\n",
       "      <th>Mouse ID</th>\n",
       "      <th>Drug Regimen</th>\n",
       "      <th>Sex</th>\n",
       "      <th>Age_months</th>\n",
       "      <th>Weight (g)</th>\n",
       "      <th>Timepoint</th>\n",
       "      <th>Tumor Volume (mm3)</th>\n",
       "      <th>Metastatic Sites</th>\n",
       "    </tr>\n",
       "  </thead>\n",
       "  <tbody>\n",
       "    <tr>\n",
       "      <td>0</td>\n",
       "      <td>k403</td>\n",
       "      <td>Ramicane</td>\n",
       "      <td>Male</td>\n",
       "      <td>21</td>\n",
       "      <td>16</td>\n",
       "      <td>0</td>\n",
       "      <td>45.000000</td>\n",
       "      <td>0</td>\n",
       "    </tr>\n",
       "    <tr>\n",
       "      <td>1</td>\n",
       "      <td>k403</td>\n",
       "      <td>Ramicane</td>\n",
       "      <td>Male</td>\n",
       "      <td>21</td>\n",
       "      <td>16</td>\n",
       "      <td>5</td>\n",
       "      <td>38.825898</td>\n",
       "      <td>0</td>\n",
       "    </tr>\n",
       "    <tr>\n",
       "      <td>2</td>\n",
       "      <td>k403</td>\n",
       "      <td>Ramicane</td>\n",
       "      <td>Male</td>\n",
       "      <td>21</td>\n",
       "      <td>16</td>\n",
       "      <td>10</td>\n",
       "      <td>35.014271</td>\n",
       "      <td>1</td>\n",
       "    </tr>\n",
       "    <tr>\n",
       "      <td>3</td>\n",
       "      <td>k403</td>\n",
       "      <td>Ramicane</td>\n",
       "      <td>Male</td>\n",
       "      <td>21</td>\n",
       "      <td>16</td>\n",
       "      <td>15</td>\n",
       "      <td>34.223992</td>\n",
       "      <td>1</td>\n",
       "    </tr>\n",
       "    <tr>\n",
       "      <td>4</td>\n",
       "      <td>k403</td>\n",
       "      <td>Ramicane</td>\n",
       "      <td>Male</td>\n",
       "      <td>21</td>\n",
       "      <td>16</td>\n",
       "      <td>20</td>\n",
       "      <td>32.997729</td>\n",
       "      <td>1</td>\n",
       "    </tr>\n",
       "  </tbody>\n",
       "</table>\n",
       "</div>"
      ],
      "text/plain": [
       "  Mouse ID Drug Regimen   Sex  Age_months  Weight (g)  Timepoint  \\\n",
       "0     k403     Ramicane  Male          21          16          0   \n",
       "1     k403     Ramicane  Male          21          16          5   \n",
       "2     k403     Ramicane  Male          21          16         10   \n",
       "3     k403     Ramicane  Male          21          16         15   \n",
       "4     k403     Ramicane  Male          21          16         20   \n",
       "\n",
       "   Tumor Volume (mm3)  Metastatic Sites  \n",
       "0           45.000000                 0  \n",
       "1           38.825898                 0  \n",
       "2           35.014271                 1  \n",
       "3           34.223992                 1  \n",
       "4           32.997729                 1  "
      ]
     },
     "execution_count": 120,
     "metadata": {},
     "output_type": "execute_result"
    }
   ],
   "source": [
    "# Dependencies and Setup\n",
    "import matplotlib.pyplot as plt\n",
    "import numpy as np\n",
    "import pandas as pd\n",
    "from scipy.stats import linregress\n",
    "from pprint import pprint\n",
    "\n",
    "# Study data files\n",
    "mouse_metadata = \"data/Mouse_metadata.csv\"\n",
    "study_results = \"data/Study_results.csv\"\n",
    "\n",
    "# Read the mouse data and the study results\n",
    "mouse_metadata = pd.read_csv(mouse_metadata)\n",
    "study_results = pd.read_csv(study_results)\n",
    "\n",
    "# Combine the data into a single dataset\n",
    "combined_df=pd.merge(mouse_metadata,study_results, how='outer', on='Mouse ID')\n",
    "Drug_list=combined_df['Drug Regimen'].unique()\n",
    "Drug_list.sort()\n",
    "combined_df.head()\n",
    "\n"
   ]
  },
  {
   "cell_type": "markdown",
   "metadata": {},
   "source": [
    "## Summary statistics"
   ]
  },
  {
   "cell_type": "code",
   "execution_count": 121,
   "metadata": {},
   "outputs": [
    {
     "data": {
      "text/html": [
       "<div>\n",
       "<style scoped>\n",
       "    .dataframe tbody tr th:only-of-type {\n",
       "        vertical-align: middle;\n",
       "    }\n",
       "\n",
       "    .dataframe tbody tr th {\n",
       "        vertical-align: top;\n",
       "    }\n",
       "\n",
       "    .dataframe thead th {\n",
       "        text-align: right;\n",
       "    }\n",
       "</style>\n",
       "<table border=\"1\" class=\"dataframe\">\n",
       "  <thead>\n",
       "    <tr style=\"text-align: right;\">\n",
       "      <th></th>\n",
       "      <th>Statistics</th>\n",
       "      <th>Values</th>\n",
       "    </tr>\n",
       "  </thead>\n",
       "  <tbody>\n",
       "    <tr>\n",
       "      <td>0</td>\n",
       "      <td>Mean</td>\n",
       "      <td>50.448381</td>\n",
       "    </tr>\n",
       "    <tr>\n",
       "      <td>1</td>\n",
       "      <td>Median</td>\n",
       "      <td>48.951474</td>\n",
       "    </tr>\n",
       "    <tr>\n",
       "      <td>2</td>\n",
       "      <td>Variance</td>\n",
       "      <td>79.116074</td>\n",
       "    </tr>\n",
       "    <tr>\n",
       "      <td>3</td>\n",
       "      <td>Standard Variance</td>\n",
       "      <td>8.894722</td>\n",
       "    </tr>\n",
       "    <tr>\n",
       "      <td>4</td>\n",
       "      <td>Standard Error of Mean</td>\n",
       "      <td>0.204436</td>\n",
       "    </tr>\n",
       "  </tbody>\n",
       "</table>\n",
       "</div>"
      ],
      "text/plain": [
       "               Statistics     Values\n",
       "0                    Mean  50.448381\n",
       "1                  Median  48.951474\n",
       "2                Variance  79.116074\n",
       "3       Standard Variance   8.894722\n",
       "4  Standard Error of Mean   0.204436"
      ]
     },
     "execution_count": 121,
     "metadata": {},
     "output_type": "execute_result"
    }
   ],
   "source": [
    "data={'Statistics':('Mean','Median','Variance','Standard Variance', 'Standard Error of Mean'),\n",
    "      'Values':(combined_df[\"Tumor Volume (mm3)\"].mean(),combined_df[\"Tumor Volume (mm3)\"].median(),\n",
    "      combined_df[\"Tumor Volume (mm3)\"].var(),combined_df[\"Tumor Volume (mm3)\"].std(),\n",
    "      combined_df[\"Tumor Volume (mm3)\"].sem())}\n",
    "\n",
    "pd.DataFrame(data)\n",
    "\n",
    "#DO IT WITH plt.table\n",
    "\n",
    "\n",
    "# Generate a summary statistics table of mean, median, variance, standard deviation, and SEM of the tumor volume for each regimen"
   ]
  },
  {
   "cell_type": "markdown",
   "metadata": {},
   "source": [
    "## Bar plots"
   ]
  },
  {
   "cell_type": "code",
   "execution_count": 135,
   "metadata": {},
   "outputs": [
    {
     "data": {
      "text/plain": [
       "[Text(0,0.5,'Data Points'),\n",
       " Text(0.5,0,'Drug Regimen'),\n",
       " Text(0.5,1,'Number of data points for each treatment regimen')]"
      ]
     },
     "execution_count": 135,
     "metadata": {},
     "output_type": "execute_result"
    },
    {
     "data": {
      "image/png": "[encoded data removed]",
      "text/plain": [
       "<Figure size 432x288 with 1 Axes>"
      ]
     },
     "metadata": {
      "needs_background": "light"
     },
     "output_type": "display_data"
    }
   ],
   "source": [
    "# Generate a bar plot showing number of data points for each treatment regimen using pandas\n",
    "group=combined_df.groupby(['Drug Regimen']).count()\n",
    "\n",
    "bar=group['Timepoint'].plot(kind='bar',legend =False,color = 'b')\n",
    "bar.set(xlabel=\"Drug Regimen\", ylabel=\"Data Points\",title=\"Number of data points for each treatment regimen\")\n",
    "bar."
   ]
  },
  {
   "cell_type": "code",
   "execution_count": null,
   "metadata": {},
   "outputs": [],
   "source": []
  },
  {
   "cell_type": "code",
   "execution_count": 136,
   "metadata": {
    "scrolled": true
   },
   "outputs": [
    {
     "data": {
      "text/plain": [
       "(0, 235)"
      ]
     },
     "execution_count": 136,
     "metadata": {},
     "output_type": "execute_result"
    },
    {
     "data": {
      "image/png": "[encoded data removed]",
      "text/plain": [
       "<Figure size 432x288 with 1 Axes>"
      ]
     },
     "metadata": {
      "needs_background": "light"
     },
     "output_type": "display_data"
    }
   ],
   "source": [
    "# Generate a bar plot showing number of data points for each treatment regimen using pyplot\n",
    " \n",
    "Y_axis=[x for x in group['Mouse ID']]\n",
    "\n",
    "x_axis=np.arange(len(Y_axis))\n",
    "plt.bar(x_axis, Y_axis, color='r', alpha=0.5, align=\"center\")\n",
    "tick_locations = [value for value in x_axis]\n",
    "plt.xticks(tick_locations,Drug_list,rotation='vertical')\n",
    "plt.xlim(-0.75, len(x_axis)-.25)\n",
    "plt.ylim(0, max(Y_axis) + 5)\n",
    "\n"
   ]
  },
  {
   "cell_type": "markdown",
   "metadata": {},
   "source": [
    "## Pie plots"
   ]
  },
  {
   "cell_type": "code",
   "execution_count": 124,
   "metadata": {},
   "outputs": [
    {
     "data": {
      "text/plain": [
       "<matplotlib.axes._subplots.AxesSubplot at 0x1a2044cf50>"
      ]
     },
     "execution_count": 124,
     "metadata": {},
     "output_type": "execute_result"
    },
    {
     "data": {
      "image/png": "[encoded data removed]",
      "text/plain": [
       "<Figure size 432x432 with 1 Axes>"
      ]
     },
     "metadata": {},
     "output_type": "display_data"
    }
   ],
   "source": [
    "# Generate a pie plot showing the distribution of female versus male mice using pandas\n",
    "group_m=combined_df.groupby(['Sex']).count()\n",
    "group_m\n",
    "\n",
    "group_m.plot(kind='pie', y=['Drug Regimen'],legend=False,figsize=(6, 6))\n"
   ]
  },
  {
   "cell_type": "code",
   "execution_count": 125,
   "metadata": {},
   "outputs": [
    {
     "data": {
      "text/plain": [
       "(-1.2895392455161503,\n",
       " 1.1103068123149018,\n",
       " -1.1126933839287776,\n",
       " 1.2918692678582502)"
      ]
     },
     "execution_count": 125,
     "metadata": {},
     "output_type": "execute_result"
    },
    {
     "data": {
      "image/png": "[encoded data removed]",
      "text/plain": [
       "<Figure size 432x288 with 1 Axes>"
      ]
     },
     "metadata": {},
     "output_type": "display_data"
    }
   ],
   "source": [
    "# Generate a pie plot showing the distribution of female versus male mice using pyplot\n",
    "plt.pie(group_m['Drug Regimen'],explode=[0.25,0],labels=['Male','Female'],autopct='%1.1f%%',shadow=True,startangle=45)\n",
    "plt.axis('equal')"
   ]
  },
  {
   "cell_type": "markdown",
   "metadata": {},
   "source": [
    "## Quartiles, outliers and boxplots"
   ]
  },
  {
   "cell_type": "code",
   "execution_count": 126,
   "metadata": {},
   "outputs": [
    {
     "data": {
      "text/html": [
       "<div>\n",
       "<style scoped>\n",
       "    .dataframe tbody tr th:only-of-type {\n",
       "        vertical-align: middle;\n",
       "    }\n",
       "\n",
       "    .dataframe tbody tr th {\n",
       "        vertical-align: top;\n",
       "    }\n",
       "\n",
       "    .dataframe thead th {\n",
       "        text-align: right;\n",
       "    }\n",
       "</style>\n",
       "<table border=\"1\" class=\"dataframe\">\n",
       "  <thead>\n",
       "    <tr style=\"text-align: right;\">\n",
       "      <th></th>\n",
       "      <th>count</th>\n",
       "      <th>mean</th>\n",
       "      <th>std</th>\n",
       "      <th>min</th>\n",
       "      <th>25%</th>\n",
       "      <th>50%</th>\n",
       "      <th>75%</th>\n",
       "      <th>max</th>\n",
       "    </tr>\n",
       "    <tr>\n",
       "      <th>Drug Regimen</th>\n",
       "      <th></th>\n",
       "      <th></th>\n",
       "      <th></th>\n",
       "      <th></th>\n",
       "      <th></th>\n",
       "      <th></th>\n",
       "      <th></th>\n",
       "      <th></th>\n",
       "    </tr>\n",
       "  </thead>\n",
       "  <tbody>\n",
       "    <tr>\n",
       "      <td>Ramicane</td>\n",
       "      <td>228.0</td>\n",
       "      <td>40.216745</td>\n",
       "      <td>4.846308</td>\n",
       "      <td>22.050126</td>\n",
       "      <td>36.674635</td>\n",
       "      <td>40.673236</td>\n",
       "      <td>45.000000</td>\n",
       "      <td>47.622816</td>\n",
       "    </tr>\n",
       "    <tr>\n",
       "      <td>Capomulin</td>\n",
       "      <td>230.0</td>\n",
       "      <td>40.675741</td>\n",
       "      <td>4.994774</td>\n",
       "      <td>23.343598</td>\n",
       "      <td>37.685933</td>\n",
       "      <td>41.557809</td>\n",
       "      <td>45.000000</td>\n",
       "      <td>48.158209</td>\n",
       "    </tr>\n",
       "    <tr>\n",
       "      <td>Propriva</td>\n",
       "      <td>161.0</td>\n",
       "      <td>52.322552</td>\n",
       "      <td>6.507770</td>\n",
       "      <td>45.000000</td>\n",
       "      <td>47.081086</td>\n",
       "      <td>50.854632</td>\n",
       "      <td>56.184664</td>\n",
       "      <td>72.455421</td>\n",
       "    </tr>\n",
       "    <tr>\n",
       "      <td>Ceftamin</td>\n",
       "      <td>178.0</td>\n",
       "      <td>52.591172</td>\n",
       "      <td>6.268188</td>\n",
       "      <td>45.000000</td>\n",
       "      <td>47.208427</td>\n",
       "      <td>51.776157</td>\n",
       "      <td>56.801438</td>\n",
       "      <td>68.923185</td>\n",
       "    </tr>\n",
       "    <tr>\n",
       "      <td>Infubinol</td>\n",
       "      <td>178.0</td>\n",
       "      <td>52.884795</td>\n",
       "      <td>6.567243</td>\n",
       "      <td>36.321346</td>\n",
       "      <td>47.312353</td>\n",
       "      <td>51.820584</td>\n",
       "      <td>57.314444</td>\n",
       "      <td>72.226731</td>\n",
       "    </tr>\n",
       "    <tr>\n",
       "      <td>Zoniferol</td>\n",
       "      <td>182.0</td>\n",
       "      <td>53.236507</td>\n",
       "      <td>6.966589</td>\n",
       "      <td>45.000000</td>\n",
       "      <td>47.337876</td>\n",
       "      <td>51.818479</td>\n",
       "      <td>57.954259</td>\n",
       "      <td>73.324432</td>\n",
       "    </tr>\n",
       "    <tr>\n",
       "      <td>Placebo</td>\n",
       "      <td>181.0</td>\n",
       "      <td>54.033581</td>\n",
       "      <td>7.821003</td>\n",
       "      <td>45.000000</td>\n",
       "      <td>47.459053</td>\n",
       "      <td>52.288934</td>\n",
       "      <td>59.916934</td>\n",
       "      <td>73.212939</td>\n",
       "    </tr>\n",
       "    <tr>\n",
       "      <td>Stelasyn</td>\n",
       "      <td>181.0</td>\n",
       "      <td>54.233149</td>\n",
       "      <td>7.710419</td>\n",
       "      <td>45.000000</td>\n",
       "      <td>48.047139</td>\n",
       "      <td>52.431737</td>\n",
       "      <td>58.719297</td>\n",
       "      <td>75.123690</td>\n",
       "    </tr>\n",
       "    <tr>\n",
       "      <td>Naftisol</td>\n",
       "      <td>186.0</td>\n",
       "      <td>54.331565</td>\n",
       "      <td>8.134708</td>\n",
       "      <td>45.000000</td>\n",
       "      <td>47.285874</td>\n",
       "      <td>52.509285</td>\n",
       "      <td>59.963034</td>\n",
       "      <td>76.668817</td>\n",
       "    </tr>\n",
       "    <tr>\n",
       "      <td>Ketapril</td>\n",
       "      <td>188.0</td>\n",
       "      <td>55.235638</td>\n",
       "      <td>8.279709</td>\n",
       "      <td>45.000000</td>\n",
       "      <td>48.232987</td>\n",
       "      <td>53.698743</td>\n",
       "      <td>60.870951</td>\n",
       "      <td>78.567014</td>\n",
       "    </tr>\n",
       "  </tbody>\n",
       "</table>\n",
       "</div>"
      ],
      "text/plain": [
       "              count       mean       std        min        25%        50%  \\\n",
       "Drug Regimen                                                                \n",
       "Ramicane      228.0  40.216745  4.846308  22.050126  36.674635  40.673236   \n",
       "Capomulin     230.0  40.675741  4.994774  23.343598  37.685933  41.557809   \n",
       "Propriva      161.0  52.322552  6.507770  45.000000  47.081086  50.854632   \n",
       "Ceftamin      178.0  52.591172  6.268188  45.000000  47.208427  51.776157   \n",
       "Infubinol     178.0  52.884795  6.567243  36.321346  47.312353  51.820584   \n",
       "Zoniferol     182.0  53.236507  6.966589  45.000000  47.337876  51.818479   \n",
       "Placebo       181.0  54.033581  7.821003  45.000000  47.459053  52.288934   \n",
       "Stelasyn      181.0  54.233149  7.710419  45.000000  48.047139  52.431737   \n",
       "Naftisol      186.0  54.331565  8.134708  45.000000  47.285874  52.509285   \n",
       "Ketapril      188.0  55.235638  8.279709  45.000000  48.232987  53.698743   \n",
       "\n",
       "                    75%        max  \n",
       "Drug Regimen                        \n",
       "Ramicane      45.000000  47.622816  \n",
       "Capomulin     45.000000  48.158209  \n",
       "Propriva      56.184664  72.455421  \n",
       "Ceftamin      56.801438  68.923185  \n",
       "Infubinol     57.314444  72.226731  \n",
       "Zoniferol     57.954259  73.324432  \n",
       "Placebo       59.916934  73.212939  \n",
       "Stelasyn      58.719297  75.123690  \n",
       "Naftisol      59.963034  76.668817  \n",
       "Ketapril      60.870951  78.567014  "
      ]
     },
     "execution_count": 126,
     "metadata": {},
     "output_type": "execute_result"
    }
   ],
   "source": [
    "# Calculate the final tumor volume of each mouse across four of the most promising treatment regimens. Calculate the IQR and quantitatively determine if there are any potential outliers.\n",
    "combined_df.head(15)\n",
    "group_quart=combined_df.groupby(['Drug Regimen'])\n",
    "group_quart['Tumor Volume (mm3)'].describe().sort_values(by='mean')\n",
    "\n"
   ]
  },
  {
   "cell_type": "code",
   "execution_count": null,
   "metadata": {},
   "outputs": [],
   "source": []
  },
  {
   "cell_type": "code",
   "execution_count": 127,
   "metadata": {},
   "outputs": [
    {
     "name": "stdout",
     "output_type": "stream",
     "text": [
      "Ramicane treatment has 0 potential outliers\n"
     ]
    }
   ],
   "source": [
    "combined_df_reduced=combined_df.loc[:,['Mouse ID','Drug Regimen','Weight (g)','Timepoint','Tumor Volume (mm3)']]\n",
    "finaltumorV_df=combined_df_reduced.loc[(combined_df_reduced[\"Timepoint\"]==45)]\n",
    "finaltumorV_Ramicane=finaltumorV_df.loc[(finaltumorV_df[\"Drug Regimen\"]==\"Ramicane\")]\n",
    "finaltumorV_Ramicane\n",
    "\n",
    "quartiles = finaltumorV_Ramicane['Tumor Volume (mm3)'].quantile([.25,.5,.75])\n",
    "lowerq = quartiles[0.25]\n",
    "upperq = quartiles[0.75]\n",
    "iqr = upperq-lowerq\n",
    "\n",
    "lower_bound = lowerq - (1.5*iqr)\n",
    "upper_bound = upperq + (1.5*iqr)\n",
    "\n",
    "Ramicane_outlier=finaltumorV_Ramicane.loc[(finaltumorV_Ramicane[\"Tumor Volume (mm3)\"]<lower_bound)]\n",
    "Ramicane_outlier=finaltumorV_Ramicane.loc[(finaltumorV_Ramicane[\"Tumor Volume (mm3)\"]>upper_bound)]\n",
    "print(f'Ramicane treatment has {len(Ramicane_outlier)} potential outliers')\n",
    "if len(Ramicane_outlier)!=0:\n",
    "    Ramicane_outlier\n"
   ]
  },
  {
   "cell_type": "code",
   "execution_count": 128,
   "metadata": {},
   "outputs": [
    {
     "name": "stdout",
     "output_type": "stream",
     "text": [
      "Campomulin treatment has 0 potential outliers\n"
     ]
    }
   ],
   "source": [
    "finaltumorV_Capomulin=finaltumorV_df.loc[(finaltumorV_df[\"Drug Regimen\"]==\"Capomulin\")]\n",
    "\n",
    "quartiles = finaltumorV_Capomulin['Tumor Volume (mm3)'].quantile([.25,.5,.75])\n",
    "lowerq = quartiles[0.25]\n",
    "upperq = quartiles[0.75]\n",
    "iqr = upperq-lowerq\n",
    "\n",
    "lower_bound_c = lowerq - (1.5*iqr)\n",
    "upper_bound_c = upperq + (1.5*iqr)\n",
    "\n",
    "Campomulin_outlier=finaltumorV_Capomulin.loc[(finaltumorV_Capomulin[\"Tumor Volume (mm3)\"]<lower_bound_c)]\n",
    "Campoulin_outlier=finaltumorV_Capomulin.loc[(finaltumorV_Capomulin[\"Tumor Volume (mm3)\"]>upper_bound_c)]\n",
    "\n",
    "print(f'Campomulin treatment has {len(Campomulin_outlier)} potential outliers')\n",
    "if len(Campomulin_outlier)!=0:\n",
    "    Campomulin_outlier\n"
   ]
  },
  {
   "cell_type": "code",
   "execution_count": 129,
   "metadata": {},
   "outputs": [
    {
     "name": "stdout",
     "output_type": "stream",
     "text": [
      "Propriva treatment has 0 potential outliers\n"
     ]
    }
   ],
   "source": [
    "finaltumorV_Infubinol=finaltumorV_df.loc[(finaltumorV_df[\"Drug Regimen\"]==\"Infubinol\")]\n",
    "\n",
    "\n",
    "quartiles = finaltumorV_Infubinol['Tumor Volume (mm3)'].quantile([.25,.5,.75])\n",
    "lowerq = quartiles[0.25]\n",
    "upperq = quartiles[0.75]\n",
    "iqr = upperq-lowerq\n",
    "\n",
    "lower_bound_I = lowerq - (1.5*iqr)\n",
    "upper_bound_I = upperq + (1.5*iqr)\n",
    "\n",
    "\n",
    "Infubinol_outlier=finaltumorV_Infubinol.loc[(finaltumorV_Infubinol[\"Tumor Volume (mm3)\"]<lower_bound_I)]\n",
    "Infubinol_outlier=finaltumorV_Infubinol.loc[(finaltumorV_Infubinol[\"Tumor Volume (mm3)\"]>upper_bound_I)]\n",
    "\n",
    "print(f'Propriva treatment has {len(Infubinol_outlier)} potential outliers')\n",
    "if len(Infubinol_outlier)!=0:\n",
    "    Infubinol_outlier"
   ]
  },
  {
   "cell_type": "code",
   "execution_count": 130,
   "metadata": {},
   "outputs": [
    {
     "name": "stdout",
     "output_type": "stream",
     "text": [
      "Ceftamin treatment has 0 potential outliers\n"
     ]
    }
   ],
   "source": [
    "finaltumorV_Ceftamin=finaltumorV_df.loc[(finaltumorV_df[\"Drug Regimen\"]==\"Ceftamin\")]\n",
    "\n",
    "\n",
    "quartiles = finaltumorV_Ceftamin['Tumor Volume (mm3)'].quantile([.25,.5,.75])\n",
    "lowerq = quartiles[0.25]\n",
    "upperq = quartiles[0.75]\n",
    "iqr = upperq-lowerq\n",
    "\n",
    "lower_bound_cf = lowerq - (1.5*iqr)\n",
    "upper_bound_cf = upperq + (1.5*iqr)\n",
    "\n",
    "Ceftamin_outlier=finaltumorV_Ceftamin.loc[(finaltumorV_Ceftamin[\"Tumor Volume (mm3)\"]<lower_bound_cf)]\n",
    "Ceftamin_outlier=finaltumorV_Ceftamin.loc[(finaltumorV_Ceftamin[\"Tumor Volume (mm3)\"]>upper_bound_cf)]\n",
    "\n",
    "print(f'Ceftamin treatment has {len(Ceftamin_outlier)} potential outliers')\n",
    "if len(Ceftamin_outlier)!=0:\n",
    "    Ceftamin_outlier"
   ]
  },
  {
   "cell_type": "code",
   "execution_count": 131,
   "metadata": {},
   "outputs": [
    {
     "data": {
      "image/png": "[encoded data removed]",
      "text/plain": [
       "<Figure size 432x288 with 1 Axes>"
      ]
     },
     "metadata": {
      "needs_background": "light"
     },
     "output_type": "display_data"
    }
   ],
   "source": [
    "# Generate a box plot of the final tumor volume of each mouse across four regimens of interest\n",
    "Ramicane_tv=[]\n",
    "Capomulin_tv=[]\n",
    "Infubinol_tv=[]\n",
    "Ceftamin_tv=[]\n",
    "\n",
    "\n",
    "for x in finaltumorV_Ramicane[\"Tumor Volume (mm3)\"]:\n",
    "    Ramicane_tv.append(x)\n",
    "for x in finaltumorV_Capomulin[\"Tumor Volume (mm3)\"]:\n",
    "    Capomulin_tv.append(x)\n",
    "for x in finaltumorV_Infubinol[\"Tumor Volume (mm3)\"]:\n",
    "    Infubinol_tv.append(x)\n",
    "for x in finaltumorV_Ceftamin[\"Tumor Volume (mm3)\"]:\n",
    "    Ceftamin_tv.append(x)\n",
    "\n",
    "final_data=[Ramicane_tv,Capomulin_tv,Infubinol_tv,Ceftamin_tv]\n",
    "\n",
    "fig1, ax1 = plt.subplots()\n",
    "ax1.set_title('Box plot of final tumor volumes')\n",
    "ax1.set_ylabel('Volume in mm3')\n",
    "ax1.boxplot(final_data, widths = 0.5)\n",
    "ax1.set_xlabel(\"Drug Regimen\")\n",
    "ax1.set_xticklabels(['Ramicane','Capomulin','Infubinol','Ceftamin'])\n",
    "\n",
    "plt.show()"
   ]
  },
  {
   "cell_type": "markdown",
   "metadata": {},
   "source": [
    "## Line and scatter plots"
   ]
  },
  {
   "cell_type": "code",
   "execution_count": 148,
   "metadata": {},
   "outputs": [
    {
     "data": {
      "text/plain": [
       "(20, 50.0)"
      ]
     },
     "execution_count": 148,
     "metadata": {},
     "output_type": "execute_result"
    },
    {
     "data": {
      "image/png": "[encoded data removed]",
      "text/plain": [
       "<Figure size 432x288 with 1 Axes>"
      ]
     },
     "metadata": {
      "needs_background": "light"
     },
     "output_type": "display_data"
    }
   ],
   "source": [
    "# Generate a line plot of time point versus tumor volume for a mouse treated with Capomulin\n",
    "Capomulin_time=[]\n",
    "Capomulin_vol=[]\n",
    "Capomulin_w=[]\n",
    "\n",
    "for data in combined_df.iterrows():\n",
    "       if(data[1]['Mouse ID']=='s185'):\n",
    "        Capomulin_time.append(data[1][\"Timepoint\"])\n",
    "        Capomulin_vol.append(data[1][\"Tumor Volume (mm3)\"])\n",
    "        Capomulin_w.append(data[1][\"Weight (g)\"])\n",
    "\n",
    "fig1, ax1 = plt.subplots()\n",
    "plt.plot(Capomulin_time,Capomulin_vol)\n",
    "ax1.set_ylabel(\"Tumor Volume\")\n",
    "ax1.set_xlabel(\"Time (in months)\")\n",
    "ax1.set_title(\"Time point vs Tumor Volume for Capomulin for a mouse\")\n",
    "\n",
    "plt.xlim(-0.50, 50)\n",
    "plt.ylim(20, max(Capomulin_vol) + 5)"
   ]
  },
  {
   "cell_type": "code",
   "execution_count": 149,
   "metadata": {},
   "outputs": [
    {
     "data": {
      "text/plain": [
       "Text(0,0.5,'Average Tumor Volume')"
      ]
     },
     "execution_count": 149,
     "metadata": {},
     "output_type": "execute_result"
    },
    {
     "data": {
      "image/png": "[encoded data removed]",
      "text/plain": [
       "<Figure size 432x288 with 1 Axes>"
      ]
     },
     "metadata": {
      "needs_background": "light"
     },
     "output_type": "display_data"
    }
   ],
   "source": [
    "# Generate a scatter plot of mouse weight versus average tumor volume for the Capomulin regimen\n",
    "\n",
    "capmulin_data=combined_df_reduced.loc[(combined_df_reduced[\"Drug Regimen\"]==\"Capomulin\")]    \n",
    "\n",
    "grouped_cap=capmulin_data.groupby('Mouse ID')\n",
    "mean_volume=grouped_cap['Tumor Volume (mm3)'].mean()\n",
    "weight_cap=grouped_cap['Weight (g)'].mean()\n",
    "\n",
    "plt.scatter(weight_cap, mean_volume, marker=\"o\", facecolors=\"red\", edgecolors=\"black\")\n",
    "\n",
    "plt.title(\"Mouse Weight Vs Average Tumor Volume\")\n",
    "plt.xlabel(\"Mouse Weight (g)\")\n",
    "plt.ylabel(\"Average Tumor Volume\")\n"
   ]
  },
  {
   "cell_type": "code",
   "execution_count": 150,
   "metadata": {},
   "outputs": [
    {
     "name": "stdout",
     "output_type": "stream",
     "text": [
      "The r-squared is: 0.8419363424694718\n"
     ]
    },
    {
     "data": {
      "image/png": "[encoded data removed]",
      "text/plain": [
       "<Figure size 432x288 with 1 Axes>"
      ]
     },
     "metadata": {
      "needs_background": "light"
     },
     "output_type": "display_data"
    }
   ],
   "source": [
    "# Calculate the correlation coefficient and linear regression model for mouse weight and average tumor volume for the Capomulin regimen\n",
    "\n",
    "(slope, intercept, rvalue, pvalue, stderr) = linregress(weight_cap, mean_volume)\n",
    "regress_values=weight_cap * slope + intercept\n",
    "line_eq = \"y = \" + str(round(slope,2)) + \"x + \" + str(round(intercept,2))\n",
    "plt.scatter(weight_cap, mean_volume)\n",
    "plt.plot(weight_cap,regress_values,\"r-\")\n",
    "plt.annotate(line_eq,(6,10),fontsize=15,color=\"red\")\n",
    "plt.xlabel(\"Mouse Weight (g)\")\n",
    "plt.ylabel(\"Average Tumor Volume (mm3)\")\n",
    "plt.annotate(line_eq,(20,35),fontsize=15,color=\"red\")\n",
    "print(f\"The r-squared is: {rvalue}\")"
   ]
  },
  {
   "cell_type": "code",
   "execution_count": null,
   "metadata": {},
   "outputs": [],
   "source": []
  },
  {
   "cell_type": "code",
   "execution_count": null,
   "metadata": {},
   "outputs": [],
   "source": []
  },
  {
   "cell_type": "code",
   "execution_count": null,
   "metadata": {},
   "outputs": [],
   "source": []
  }
 ],
 "metadata": {
  "anaconda-cloud": {},
  "kernelspec": {
   "display_name": "Python 3",
   "language": "python",
   "name": "python3"
  },
  "language_info": {
   "codemirror_mode": {
    "name": "ipython",
    "version": 3
   },
   "file_extension": ".py",
   "mimetype": "text/x-python",
   "name": "python",
   "nbconvert_exporter": "python",
   "pygments_lexer": "ipython3",
   "version": "3.7.4"
  }
 },
 "nbformat": 4,
 "nbformat_minor": 4
}
